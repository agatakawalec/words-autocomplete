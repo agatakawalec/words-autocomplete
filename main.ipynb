{
 "cells": [
  {
   "cell_type": "code",
   "execution_count": 1,
   "metadata": {
    "pycharm": {
     "is_executing": false
    }
   },
   "outputs": [
    {
     "name": "stderr",
     "output_type": "stream",
     "text": [
      "Using TensorFlow backend.\n"
     ]
    }
   ],
   "source": [
    "import numpy as np\n",
    "from nltk.tokenize import RegexpTokenizer\n",
    "from keras.models import Sequential, load_model\n",
    "from keras.layers import LSTM\n",
    "from keras.layers.core import Dense, Activation\n",
    "from keras.optimizers import RMSprop\n",
    "import matplotlib.pyplot as plt\n",
    "import pickle\n",
    "import heapq"
   ]
  },
  {
   "cell_type": "code",
   "execution_count": 40,
   "metadata": {
    "pycharm": {
     "is_executing": false,
     "name": "#%%\n"
    }
   },
   "outputs": [
    {
     "name": "stdout",
     "output_type": "stream",
     "text": [
      "corpus length: 581887\n",
      "109226\n",
      "['into', 'his', 'own', 'delicate', 'and']\n"
     ]
    }
   ],
   "source": [
    "book_file_path = 'book.txt'\n",
    "text = open(book_file_path).read().lower()\n",
    "tok = RegexpTokenizer(r'\\w+')\n",
    "words = tok.tokenize(text)"
   ]
  },
  {
   "cell_type": "code",
   "execution_count": 59,
   "metadata": {
    "pycharm": {
     "is_executing": false,
     "name": "#%%\n"
    }
   },
   "outputs": [
    {
     "name": "stdout",
     "output_type": "stream",
     "text": [
      "['the', 'adventures', 'of', 'sherlock', 'holmes']\n",
      "by\n",
      "[False False False ... False False False]\n",
      "109221\n"
     ]
    }
   ],
   "source": [
    "words = np.unique(words)\n",
    "word_index = dict((c, i) for i, c in enumerate(words))\n",
    "\n",
    "\n",
    "LENGTH = 5\n",
    "previous_words = []\n",
    "next_word = []\n",
    "for i in range(len(words) - LENGTH):\n",
    "#     print(words[i:i + WORD_LENGTH])\n",
    "#     print(words[i + WORD_LENGTH])\n",
    "    previous_words.append(words[i:i + LENGTH])\n",
    "    next_word.append(words[i + LENGTH])\n",
    "\n",
    "\n",
    "\n",
    "X = np.zeros((len(previous_words), LENGTH, len(words)), dtype=bool)\n",
    "Y = np.zeros((len(next_word), len(words)), dtype=bool)\n",
    "for i, list_of_prev_words in enumerate(previous_words):\n",
    "    for j, word in enumerate(list_of_prev_words):\n",
    "        X[i, j, word_index[word]] = True\n",
    "    Y[i, word_index[next_word[i]]] = True\n",
    "\n",
    "print(X[0][0])\n",
    "print(len(X))"
   ]
  },
  {
   "cell_type": "code",
   "execution_count": 60,
   "metadata": {
    "pycharm": {
     "is_executing": false,
     "name": "#%%\n"
    }
   },
   "outputs": [
    {
     "name": "stdout",
     "output_type": "stream",
     "text": [
      "Train on 103759 samples, validate on 5462 samples\n",
      "Epoch 1/2\n",
      "103759/103759 [==============================] - 201s 2ms/step - loss: 6.0544 - accuracy: 0.1020 - val_loss: 7.1610 - val_accuracy: 0.1023\n",
      "Epoch 2/2\n",
      "103759/103759 [==============================] - 202s 2ms/step - loss: 5.7700 - accuracy: 0.1337 - val_loss: 7.4912 - val_accuracy: 0.1075\n"
     ]
    }
   ],
   "source": [
    "model = Sequential()\n",
    "model.add(LSTM(128, input_shape=(LENGTH, len(words))))\n",
    "model.add(Dense(256))\n",
    "model.add(Activation('relu'))\n",
    "model.add(Dense(len(words)))\n",
    "model.add(Activation('softmax'))\n",
    "\n",
    "optimizer = RMSprop(lr=0.01)\n",
    "model.compile(loss='categorical_crossentropy', optimizer=optimizer,\n",
    "              metrics=['accuracy'])\n",
    "history = model.fit(X, Y, validation_split=0.05, batch_size=128, epochs=2,\n",
    "                    shuffle=True).history\n",
    "\n",
    "# model.save('model.h5')\n",
    "# pickle.dump(history, open(\"history.pickle\", \"wb\"))\n",
    "model = load_model('model.h5')\n",
    "history = pickle.load(open(\"history.pickle\", \"rb\"))"
   ]
  },
  {
   "cell_type": "code",
   "execution_count": 8,
   "metadata": {
    "pycharm": {
     "is_executing": false,
     "name": "#%%\n"
    }
   },
   "outputs": [],
   "source": [
    "def prepare_input(txt):\n",
    "    x = np.zeros((1, LENGTH, len(words)))\n",
    "    for t, w in enumerate(txt.split()):\n",
    "        print(w)\n",
    "        x[0, t, word_index[w]] = 1\n",
    "    return x\n",
    "\n",
    "\n",
    "def sample(predictions, top_n=3):\n",
    "    predictions = np.asarray(predictions).astype('float64')\n",
    "    predictions = np.log(predictions)\n",
    "    exp_predictions = np.exp(predictions)\n",
    "    predictions = exp_predictions / np.sum(exp_predictions)\n",
    "\n",
    "    return heapq.nlargest(top_n, range(len(predictions)), predictions.take)\n",
    "\n",
    "\n",
    "def predict(txt, n=3):\n",
    "    if text == \"\":\n",
    "        return \"0\"\n",
    "    x = prepare_input(txt)\n",
    "    predictions = model.predict(x, verbose=0)[0]\n",
    "    next_indices = sample(predictions, n)\n",
    "    return [words[idx] for idx in next_indices]\n"
   ]
  },
  {
   "cell_type": "code",
   "execution_count": 38,
   "metadata": {},
   "outputs": [
    {
     "name": "stdout",
     "output_type": "stream",
     "text": [
      "Sequence:  am still learning english so\n",
      "am\n",
      "still\n",
      "learning\n",
      "english\n",
      "so\n",
      "next possible words:  ['that', 'i', 'a', 'you', 'the', 'as', 'and']\n"
     ]
    }
   ],
   "source": [
    "q = \"I am still learning English, so please speak slowly\"\n",
    "# print(\"correct sentence: \", q)\n",
    "seq = \" \".join(tok.tokenize(q.lower())[1:6])\n",
    "\n",
    "print(\"Sequence: \", seq)\n",
    "print(\"next possible words: \", predict(seq, 7))"
   ]
  },
  {
   "cell_type": "code",
   "execution_count": null,
   "metadata": {},
   "outputs": [],
   "source": []
  }
 ],
 "metadata": {
  "kernelspec": {
   "display_name": "Python 3",
   "language": "python",
   "name": "python3"
  },
  "language_info": {
   "codemirror_mode": {
    "name": "ipython",
    "version": 3
   },
   "file_extension": ".py",
   "mimetype": "text/x-python",
   "name": "python",
   "nbconvert_exporter": "python",
   "pygments_lexer": "ipython3",
   "version": "3.8.2"
  },
  "pycharm": {
   "stem_cell": {
    "cell_type": "raw",
    "source": [],
    "metadata": {
     "collapsed": false
    }
   }
  }
 },
 "nbformat": 4,
 "nbformat_minor": 1
}